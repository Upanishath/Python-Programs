{
 "cells": [
  {
   "cell_type": "code",
   "execution_count": 8,
   "id": "9ebe3673-be78-43cf-868c-94edd41ab73d",
   "metadata": {},
   "outputs": [
    {
     "name": "stdout",
     "output_type": "stream",
     "text": [
      "Before swaping x= 10 y= 12\n",
      "After swaping x= 12 y= 10\n"
     ]
    }
   ],
   "source": [
    "'''Program to Swap values of two variables x and y\n",
    " without using any temporary variable'''\n",
    "\n",
    "# Creating two variables x & y and\n",
    "# Intializing an integer values(For example x=10 and y = 12)\n",
    "\n",
    "x = 10    # x holds an int value 10\n",
    "y = 12    # y holds an int value 12\n",
    "\n",
    "# Printing x and y variables values before swaping\n",
    "\n",
    "print(\"Before swaping x=\", x, \"y=\", y)\n",
    "\n",
    "\"\"\" Logic for swapping two variables I summed up two values in one\n",
    "    of the variable I choosed x to store the summed value and\n",
    "    after subtracting the x by y I will get y value interchanged.\n",
    "    But x value remained the same that is still holds the summed value\n",
    "    of two variables to change it again need to substract x by y\n",
    "    I will get x value interchanged.\n",
    "    So, Finally I got swapped x = 12 and y = 10\n",
    "\"\"\"\n",
    "x = x + y   # x becomes 22  i.e 10+12=22\n",
    "y = x - y   # y becomes 10 i.e 22-12=10\n",
    "x = x - y   # x becomes 12 i.e 22-10=12\n",
    "\n",
    "# Printing x and y variables values after swaping\n",
    "\n",
    "print(\"After swaping x=\", x, \"y=\", y)\n"
   ]
  },
  {
   "cell_type": "code",
   "execution_count": 9,
   "id": "0d855b6c-a8f0-4d68-b182-2c2c16483a92",
   "metadata": {},
   "outputs": [
    {
     "name": "stdout",
     "output_type": "stream",
     "text": [
      "Enter the length of the rectangle: \n"
     ]
    },
    {
     "name": "stdin",
     "output_type": "stream",
     "text": [
      " 12\n"
     ]
    },
    {
     "name": "stdout",
     "output_type": "stream",
     "text": [
      "Enter the width of t/he rectangle: \n"
     ]
    },
    {
     "name": "stdin",
     "output_type": "stream",
     "text": [
      " 2.5\n"
     ]
    },
    {
     "name": "stdout",
     "output_type": "stream",
     "text": [
      "Total area of rectangle:  30.0\n"
     ]
    }
   ],
   "source": [
    "\"\"\" Program to calculate area of rectangle\n",
    "\n",
    "    -> Formula to find the area of rectagle is length multiplied by width\n",
    "       ( i.e area = length * width )\n",
    "    -> input() function is used when we are taking input values from the user at\n",
    "       runtime\n",
    "    -> By default when we assign variable with input() function it will hold\n",
    "       the value has string. i.e variable_name = input().\n",
    "       So, to get specific input values like int, float, bool..etc\n",
    "       we need to typecaste as variable_name = type_of_variable(input())\n",
    "\"\"\"\n",
    "\n",
    "\"\"\"\n",
    "# Creating two variables lenght and width.\n",
    "# input for the variables are entered by the user at runtime with the\n",
    "# help of input()\n",
    "# here I choosen floating as type due to when calculating the area we may get\n",
    "floating point numbers\n",
    "\"\"\"\n",
    "\n",
    "print(\"Enter the length of the rectangle: \")\n",
    "length = float(input())\n",
    "print(\"Enter the width of t/he rectangle: \")\n",
    "width = float(input())\n",
    "Area = length * width  # formula of rectangle i.e area = length * width\n",
    "print(\"Total area of rectangle: \",Area )"
   ]
  },
  {
   "cell_type": "code",
   "execution_count": 10,
   "id": "8328a6fb-bd3e-49c7-9ed5-c5f827539cd2",
   "metadata": {},
   "outputs": [
    {
     "name": "stdout",
     "output_type": "stream",
     "text": [
      "Enter the degree celsius which should be converted to fahrenheit \n"
     ]
    },
    {
     "name": "stdin",
     "output_type": "stream",
     "text": [
      " 26\n"
     ]
    },
    {
     "name": "stdout",
     "output_type": "stream",
     "text": [
      "Converted degree celsius into fahrenheit:  78.8\n"
     ]
    }
   ],
   "source": [
    "\"\"\"Program to convert degree celsius to Fahrenheit\n",
    "    Formula --> fahrenheit = ( degree_celsius * 1.8 ) + 32\n",
    "\"\"\"\n",
    "\n",
    "print(\"Enter the degree celsius which should be converted to fahrenheit \")\n",
    "degree_celsius = float(input())\n",
    "fahrenheit = ( degree_celsius * 9/5 ) + 32\n",
    "print(\"Converted degree celsius into fahrenheit: \", fahrenheit)"
   ]
  },
  {
   "cell_type": "code",
   "execution_count": 11,
   "id": "01658a6b-df54-426f-a89b-9980ed42e467",
   "metadata": {},
   "outputs": [],
   "source": [
    "#String based questions assignments"
   ]
  },
  {
   "cell_type": "code",
   "execution_count": 12,
   "id": "e51d7f8f-16dc-4010-804e-90be411c0eea",
   "metadata": {},
   "outputs": [
    {
     "name": "stdin",
     "output_type": "stream",
     "text": [
      " Upanishath\n"
     ]
    },
    {
     "name": "stdout",
     "output_type": "stream",
     "text": [
      "10\n"
     ]
    }
   ],
   "source": [
    "\"\"\" Python program that takes a string as input and prints the length of\n",
    "the string.\"\"\"\n",
    "#len(string) function returns the lenght of the string\n",
    "\n",
    "str = input()\n",
    "print(len(str)) "
   ]
  },
  {
   "cell_type": "code",
   "execution_count": 30,
   "id": "48539b1d-6fa3-4615-9e23-3b2b32ea6d52",
   "metadata": {},
   "outputs": [
    {
     "name": "stdin",
     "output_type": "stream",
     "text": [
      "Enter the string: Ankith\n"
     ]
    },
    {
     "name": "stdout",
     "output_type": "stream",
     "text": [
      "Total number of vowels in a string:  2\n"
     ]
    }
   ],
   "source": [
    "\"\"\"Create a program that takes a sentence from the user and counts the number\n",
    "of vowels (a, e, i, o, u) in the string.\"\"\"\n",
    "\n",
    "str = input(\"Enter the string:\")\n",
    "\n",
    "vowels = [\"a\",\"e\",\"i\",\"o\",\"u\",\"A\",\"E\",\"I\",\"O\",\"U\"]\n",
    "\n",
    "count = 0\n",
    "\n",
    "for each_character in str:\n",
    "    if each_character in vowels:\n",
    "        count = count + 1\n",
    "print(\"Total number of vowels in a string: \",count)\n",
    "\n",
    "\"\"\"Explanation: In the above code we are using for each loop which iterates over each character one by one\n",
    "in string and for each iteration in if loop each_character searches for vowels. If vowels found count = count + 1.\n",
    "After all itteration total count will be displayed to know the number of vowels in string\"\"\""
   ]
  },
  {
   "cell_type": "code",
   "execution_count": 42,
   "id": "2a98de90-0cc1-493a-8e66-b96e94b8844f",
   "metadata": {},
   "outputs": [
    {
     "data": {
      "text/plain": [
       "'nohtyP'"
      ]
     },
     "execution_count": 42,
     "metadata": {},
     "output_type": "execute_result"
    }
   ],
   "source": [
    "\"\"\"Given a string, reverse the order of characters using string slicing and print\n",
    "the reversed string.\"\"\"\n",
    "\n",
    "str = \"Python\"\n",
    "str[ : : -1]  # Created a slice for str[start at end: end at position: move backward]"
   ]
  },
  {
   "cell_type": "code",
   "execution_count": 4,
   "id": "3a00d60f-436a-474a-9df2-f463382291a3",
   "metadata": {},
   "outputs": [
    {
     "name": "stdin",
     "output_type": "stream",
     "text": [
      "Enter a value to check whether it is palindrome or not:  121\n"
     ]
    },
    {
     "name": "stdout",
     "output_type": "stream",
     "text": [
      "Entered value is palindrome 121\n"
     ]
    }
   ],
   "source": [
    "\"\"\" Program to check whether given string is palindrome or not\n",
    "    ->> Palindrome number/string is a number/string when reversed it\n",
    "        will be same as first\n",
    "    ->> For example: 121 it's reverse is also the same than we call it as palindrome no\n",
    "    ->> Same for string example: abba it's reverse is also the same\n",
    "\n",
    "\"\"\"\n",
    "\n",
    "strvalue=input(\"Enter a value to check whether it is palindrome or not: \")\n",
    "strreverse = strvalue[::-1]\n",
    "if strvalue == strreverse:\n",
    "    print(\"Entered value is palindrome\",strvalue)\n",
    "else:\n",
    "    print(\"Entered value is not a palindrome\",strvalue)\n",
    "    "
   ]
  },
  {
   "cell_type": "code",
   "execution_count": 1,
   "id": "ecf15697-2a94-47a3-ab50-a5e21b118a9c",
   "metadata": {},
   "outputs": [
    {
     "name": "stdin",
     "output_type": "stream",
     "text": [
      "Enter a string: Hi, how are you?\n"
     ]
    },
    {
     "name": "stdout",
     "output_type": "stream",
     "text": [
      "Before removing white space: Hi, how are you?\n",
      "After removing white space:\n",
      " Hi,howareyou?\n"
     ]
    }
   ],
   "source": [
    "\"\"\"Create a program that takes a string as input and removes all the spaces from\n",
    "it. Print the modified string without spaces.\"\"\"\n",
    "\n",
    "\"\"\"\n",
    "# here I am using replace funtion to remove whitespace from the string \n",
    "# replace function takes two agrguments one is which need to be replaced and \n",
    "another one is what value should be in that place\"\"\"\n",
    "\n",
    "\n",
    "\n",
    "strinput = input(\"Enter a string:\")\n",
    "print(\"Before removing white space:\",strinput)\n",
    "r_str = strinput.replace(\" \",\"\") # r_str variable stores the whitespace removed string value from strinput\n",
    "\n",
    "print(\"After removing white space:\\n\",r_str)\n",
    "\n"
   ]
  },
  {
   "cell_type": "code",
   "execution_count": null,
   "id": "90e30bcb-3256-418d-8102-0b86b9df0de1",
   "metadata": {},
   "outputs": [],
   "source": []
  }
 ],
 "metadata": {
  "kernelspec": {
   "display_name": "Python 3 (ipykernel)",
   "language": "python",
   "name": "python3"
  },
  "language_info": {
   "codemirror_mode": {
    "name": "ipython",
    "version": 3
   },
   "file_extension": ".py",
   "mimetype": "text/x-python",
   "name": "python",
   "nbconvert_exporter": "python",
   "pygments_lexer": "ipython3",
   "version": "3.10.8"
  }
 },
 "nbformat": 4,
 "nbformat_minor": 5
}
